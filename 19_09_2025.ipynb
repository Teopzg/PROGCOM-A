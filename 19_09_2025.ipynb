{
  "nbformat": 4,
  "nbformat_minor": 0,
  "metadata": {
    "colab": {
      "provenance": [],
      "include_colab_link": true
    },
    "kernelspec": {
      "name": "python3",
      "display_name": "Python 3"
    },
    "language_info": {
      "name": "python"
    }
  },
  "cells": [
    {
      "cell_type": "markdown",
      "metadata": {
        "id": "view-in-github",
        "colab_type": "text"
      },
      "source": [
        "<a href=\"https://colab.research.google.com/github/Teopzg/PROGCOM-A/blob/main/19_09_2025.ipynb\" target=\"_parent\"><img src=\"https://colab.research.google.com/assets/colab-badge.svg\" alt=\"Open In Colab\"/></a>"
      ]
    },
    {
      "cell_type": "markdown",
      "source": [
        "#DICCIONARIOS\n",
        "Un tipo de datos, que tiene las siguinete caracteristicas\n",
        "```\n",
        "Nombre_dict={}\n",
        "dict2={\"clave\":valor}\n",
        "```\n",
        "*La \"clave o llave\": siempre es alfanumerica\n",
        "Valor: PUEDE SER CUALQUIER TIPO DE DATO\n",
        "\n",
        "Posee las siguientes caracteristicas\n",
        "\n",
        "1. No tiene indexacion"
      ],
      "metadata": {
        "id": "SIr0H7MTgfbO"
      }
    },
    {
      "cell_type": "code",
      "execution_count": 2,
      "metadata": {
        "colab": {
          "base_uri": "https://localhost:8080/"
        },
        "id": "mrTGk-D4fuzl",
        "outputId": "bb923b88-2935-46a9-a529-23b11fc92be3"
      },
      "outputs": [
        {
          "output_type": "execute_result",
          "data": {
            "text/plain": [
              "1"
            ]
          },
          "metadata": {},
          "execution_count": 2
        }
      ],
      "source": [
        "Lista = list(range(1,11))\n",
        "Lista[0]"
      ]
    },
    {
      "cell_type": "code",
      "source": [
        "liga_justicia={\"superhéroes\":[\"Superman\",\"Batman\",\"Wonder woman\"],\n",
        "               \"villanos\":[\"lex luthor\", \"joker\", \"cheetah\"],\n",
        "               \"indentidadsecreta\": [\"clark kent\",\"Bruce wayne\",\"diana prince\"]}"
      ],
      "metadata": {
        "id": "Q-X_Eqppib2U"
      },
      "execution_count": 3,
      "outputs": []
    },
    {
      "cell_type": "code",
      "source": [
        "type(liga_justicia)"
      ],
      "metadata": {
        "colab": {
          "base_uri": "https://localhost:8080/"
        },
        "id": "-OjZIuFHjmE7",
        "outputId": "b50746d0-7c8e-47bb-bb3a-eb9e60feafdc"
      },
      "execution_count": 4,
      "outputs": [
        {
          "output_type": "execute_result",
          "data": {
            "text/plain": [
              "dict"
            ]
          },
          "metadata": {},
          "execution_count": 4
        }
      ]
    },
    {
      "cell_type": "code",
      "source": [
        "liga_justicia"
      ],
      "metadata": {
        "colab": {
          "base_uri": "https://localhost:8080/"
        },
        "id": "kk8WNdhWjpTy",
        "outputId": "a81d7a99-ecce-499e-dc1a-757281cc0876"
      },
      "execution_count": 5,
      "outputs": [
        {
          "output_type": "execute_result",
          "data": {
            "text/plain": [
              "{'superhéroes': ['Superman', 'Batman', 'Wonder woman'],\n",
              " 'villanos': ['lex luthor', 'joker', 'cheetah'],\n",
              " 'indentidadsecreta': ['clark kent', 'Bruce wayne', 'diana prince']}"
            ]
          },
          "metadata": {},
          "execution_count": 5
        }
      ]
    },
    {
      "cell_type": "code",
      "source": [
        "liga_justicia[\"villanos\"]"
      ],
      "metadata": {
        "colab": {
          "base_uri": "https://localhost:8080/"
        },
        "id": "-mr22bf3jsBT",
        "outputId": "9a3ae448-97de-466c-b2ce-0cafb9f321f7"
      },
      "execution_count": 6,
      "outputs": [
        {
          "output_type": "execute_result",
          "data": {
            "text/plain": [
              "['lex luthor', 'joker', 'cheetah']"
            ]
          },
          "metadata": {},
          "execution_count": 6
        }
      ]
    },
    {
      "cell_type": "code",
      "source": [
        "print(\"la identidad de batman es:\", liga_justicia[\"indentidadsecreta\"][1])"
      ],
      "metadata": {
        "colab": {
          "base_uri": "https://localhost:8080/"
        },
        "id": "y9Y9hmsTkxts",
        "outputId": "d3fff6e8-41e0-4945-8b64-05abb18b354a"
      },
      "execution_count": 7,
      "outputs": [
        {
          "output_type": "stream",
          "name": "stdout",
          "text": [
            "la identidad de batman es: Bruce wayne\n"
          ]
        }
      ]
    },
    {
      "cell_type": "code",
      "source": [
        "liga_justicia[\"superhéroes\"][1]"
      ],
      "metadata": {
        "colab": {
          "base_uri": "https://localhost:8080/",
          "height": 35
        },
        "id": "otjO5_-rlt9K",
        "outputId": "7aafa61f-b863-492d-d76b-bcefbed0d9d2"
      },
      "execution_count": 8,
      "outputs": [
        {
          "output_type": "execute_result",
          "data": {
            "text/plain": [
              "'Batman'"
            ],
            "application/vnd.google.colaboratory.intrinsic+json": {
              "type": "string"
            }
          },
          "metadata": {},
          "execution_count": 8
        }
      ]
    },
    {
      "cell_type": "markdown",
      "source": [
        "2. Puede alamacenar cualquier tipo de valor\n",
        "3. Mutable."
      ],
      "metadata": {
        "id": "qLI0pNQ_l6ar"
      }
    },
    {
      "cell_type": "markdown",
      "source": [],
      "metadata": {
        "id": "NYQXh1keog5f"
      }
    },
    {
      "cell_type": "code",
      "source": [
        "liga_justicia.keys()"
      ],
      "metadata": {
        "colab": {
          "base_uri": "https://localhost:8080/"
        },
        "id": "-QZNTPjTmAxB",
        "outputId": "326e6770-4dd7-4024-ecc0-fb69d3020b6b"
      },
      "execution_count": 9,
      "outputs": [
        {
          "output_type": "execute_result",
          "data": {
            "text/plain": [
              "dict_keys(['superhéroes', 'villanos', 'indentidadsecreta'])"
            ]
          },
          "metadata": {},
          "execution_count": 9
        }
      ]
    },
    {
      "cell_type": "markdown",
      "source": [
        "#liga_justica.()\n",
        "\n",
        "\n",
        "\n",
        "```\n",
        "liga_justicia.keys():#Método de los diccionarios que me permite adquirir todas las llaves o claves del diccionario\n",
        "liga_justicia.clear():#Método de los diccionarios que limpia todo el código mencionado\n",
        "liga.copy(): #Metodo que copia todo el diccionario\n",
        "liga_justicia.fromkeys():#Crea un nuevo diccionario de llaves iterables y variables según lo que esté en el (), solo se pueden insertar datos tipo string\n",
        "liga_justicia.pop() #Para eliminar una clave específica y obtener su valor, puedes usar el método pop():\n",
        "liga_justicia.popitem() #Eliminar y retornar un par clave-valor\n",
        "liga_justicia.setdefault()#Para insertar una clave con un valor predeterminado si la clave no está en el diccionario, puedes usar el método texto en cursiva setdefault():\n",
        "liga_justicia.update(): #El método update() de un diccionario (D) te permite actualizar el diccionario con elementos de otro mapeo (E) o iterable, y opcionalmente con pares clave-valor adicionales especificados como argumentos de palabra clave (F) En resumen, update() combina diccionarios o iterables en el diccionario original, sobrescribiendo valores si las claves ya existen.\n",
        "liga_justicia.get():Busca en el diccionario las claves que tiene y imprime el que se escribio, si no esta la clave en el diccionario se imprime un none o nada\n",
        "liga_justicia.items():Crea tuplas con las claves y los valores.\n",
        "liga_justicia.vaules():Crea tuplas de los valores sin sus claves\n",
        "```\n",
        "\n",
        "\n",
        "\n"
      ],
      "metadata": {
        "id": "f-KFB9DprMA-"
      }
    },
    {
      "cell_type": "markdown",
      "source": [
        "`.values`"
      ],
      "metadata": {
        "id": "BflVGVLJyA9o"
      }
    },
    {
      "cell_type": "code",
      "source": [
        "liga_justicia.values()"
      ],
      "metadata": {
        "colab": {
          "base_uri": "https://localhost:8080/"
        },
        "id": "WJo702W8yF7o",
        "outputId": "abbe4a83-40d0-4db7-eff2-d5bd8aaec0bd"
      },
      "execution_count": null,
      "outputs": [
        {
          "output_type": "execute_result",
          "data": {
            "text/plain": [
              "dict_values([['Superman', 'Batman', 'Wonder woman'], ['clark kent', 'Bruce wayne', 'diana prince']])"
            ]
          },
          "metadata": {},
          "execution_count": 95
        }
      ]
    },
    {
      "cell_type": "markdown",
      "source": [
        "`.items`"
      ],
      "metadata": {
        "id": "AcsgjYU8xbzw"
      }
    },
    {
      "cell_type": "code",
      "source": [
        "liga_justicia.items()"
      ],
      "metadata": {
        "colab": {
          "base_uri": "https://localhost:8080/"
        },
        "id": "i-gSMA9DxiuA",
        "outputId": "4ca9b10f-7fd8-4974-ced3-6b9f9d64b45d"
      },
      "execution_count": null,
      "outputs": [
        {
          "output_type": "execute_result",
          "data": {
            "text/plain": [
              "dict_items([('superhéroes', ['Superman', 'Batman', 'Wonder woman']), ('indentidadsecreta', ['clark kent', 'Bruce wayne', 'diana prince'])])"
            ]
          },
          "metadata": {},
          "execution_count": 93
        }
      ]
    },
    {
      "cell_type": "markdown",
      "source": [
        "`.get`"
      ],
      "metadata": {
        "id": "tJPXA_nGwuKx"
      }
    },
    {
      "cell_type": "code",
      "source": [
        "liga_justicia.get(\"Villanos\")"
      ],
      "metadata": {
        "id": "4BWr7kqtwkk6"
      },
      "execution_count": null,
      "outputs": []
    },
    {
      "cell_type": "markdown",
      "source": [
        "`.keys`"
      ],
      "metadata": {
        "id": "lKPZYsNYwugA"
      }
    },
    {
      "cell_type": "code",
      "source": [
        "liga_justicia.keys()"
      ],
      "metadata": {
        "colab": {
          "base_uri": "https://localhost:8080/"
        },
        "id": "EfVe12gEulHq",
        "outputId": "05d45a17-2fda-4ae9-f808-623ad0c19e0e"
      },
      "execution_count": null,
      "outputs": [
        {
          "output_type": "execute_result",
          "data": {
            "text/plain": [
              "dict_keys(['superhéroes', 'sede'])"
            ]
          },
          "metadata": {},
          "execution_count": 73
        }
      ]
    },
    {
      "cell_type": "markdown",
      "source": [
        "`.fromkeys`\n",
        "\n"
      ],
      "metadata": {
        "id": "uaphrA1twu3h"
      }
    },
    {
      "cell_type": "code",
      "source": [
        "liga_justicia.fromkeys (\"superhéroes\")\n"
      ],
      "metadata": {
        "colab": {
          "base_uri": "https://localhost:8080/"
        },
        "id": "NqAQcAaiwKmZ",
        "outputId": "5a2849e6-0cb8-4a7b-e5ef-f4c125d59319"
      },
      "execution_count": null,
      "outputs": [
        {
          "output_type": "execute_result",
          "data": {
            "text/plain": [
              "{'s': None,\n",
              " 'u': None,\n",
              " 'p': None,\n",
              " 'e': None,\n",
              " 'r': None,\n",
              " 'h': None,\n",
              " 'é': None,\n",
              " 'o': None}"
            ]
          },
          "metadata": {},
          "execution_count": 90
        }
      ]
    },
    {
      "cell_type": "markdown",
      "metadata": {
        "id": "42d7cb46"
      },
      "source": [
        "`setdefault()`:"
      ]
    },
    {
      "cell_type": "code",
      "metadata": {
        "colab": {
          "base_uri": "https://localhost:8080/"
        },
        "id": "14d32137",
        "outputId": "2ee6e060-6997-46d0-a17b-a886211c29ac"
      },
      "source": [
        "\n",
        "valor_existente = liga_justicia.setdefault(\"superhéroes\", [\"Nuevo Superhéroe\"])\n",
        "print(\"Valor de clave existente:\", valor_existente)\n",
        "print(\"Diccionario después de setdefault en clave existente:\", liga_justicia)\n",
        "valor_nuevo = liga_justicia.setdefault(\"sede\", \"Salón de la Justicia\")\n",
        "print(\"Valor de clave nueva:\", valor_nuevo)\n",
        "print(\"Diccionario después de setdefault en clave nueva:\", liga_justicia)"
      ],
      "execution_count": null,
      "outputs": [
        {
          "output_type": "stream",
          "name": "stdout",
          "text": [
            "Valor de clave existente: ['Nuevo Superhéroe']\n",
            "Diccionario después de setdefault en clave existente: {'superhéroes': ['Nuevo Superhéroe']}\n",
            "Valor de clave nueva: Salón de la Justicia\n",
            "Diccionario después de setdefault en clave nueva: {'superhéroes': ['Nuevo Superhéroe'], 'sede': 'Salón de la Justicia'}\n"
          ]
        }
      ]
    },
    {
      "cell_type": "markdown",
      "metadata": {
        "id": "b2505beb"
      },
      "source": [
        "`popitem()`:"
      ]
    },
    {
      "cell_type": "code",
      "metadata": {
        "id": "b1c6590e"
      },
      "source": [
        "\n",
        "par_eliminado = liga_justicia.popitem()\n",
        "\n",
        "print(\"Par clave-valor eliminado:\", par_eliminado)\n",
        "print(\"Diccionario después de eliminar un par:\", liga_justicia)"
      ],
      "execution_count": null,
      "outputs": []
    },
    {
      "cell_type": "markdown",
      "metadata": {
        "id": "62e7afc4"
      },
      "source": [
        " `pop()`:"
      ]
    },
    {
      "cell_type": "code",
      "metadata": {
        "id": "5c8a770a",
        "colab": {
          "base_uri": "https://localhost:8080/"
        },
        "outputId": "559b0ef4-57ca-4f5b-f855-a5f864cc1cdd"
      },
      "source": [
        "liga_justicia={\"superhéroes\":[\"Superman\",\"Batman\",\"Wonder woman\"],\n",
        "               \"villanos\":[\"lex luthor\", \"joker\", \"cheetah\"],\n",
        "               \"indentidadsecreta\": [\"clark kent\",\"Bruce wayne\",\"diana prince\"]}\n",
        "villanos_eliminados = liga_justicia.pop(\"villanos\")\n",
        "print(\"Lista de villanos eliminada:\", villanos_eliminados)\n",
        "print(\"Diccionario después de eliminar 'villanos':\", liga_justicia)"
      ],
      "execution_count": null,
      "outputs": [
        {
          "output_type": "stream",
          "name": "stdout",
          "text": [
            "Lista de villanos eliminada: ['lex luthor', 'joker', 'cheetah']\n",
            "Diccionario después de eliminar 'villanos': {'superhéroes': ['Superman', 'Batman', 'Wonder woman'], 'indentidadsecreta': ['clark kent', 'Bruce wayne', 'diana prince']}\n"
          ]
        }
      ]
    },
    {
      "cell_type": "markdown",
      "metadata": {
        "id": "a32c89a3"
      },
      "source": [
        "`.update` de un diccionario (D) te permite actualizar el diccionario con elementos de otro mapeo (E) o iterable, y opcionalmente con pares clave-valor adicionales especificados como argumentos de palabra clave (F)\n"
      ]
    },
    {
      "cell_type": "code",
      "metadata": {
        "colab": {
          "base_uri": "https://localhost:8080/"
        },
        "id": "0fe71e49",
        "outputId": "8b439b8c-d600-4a49-a282-aa4d5f92f17a"
      },
      "source": [
        "liga_justicia={\"superhéroes\":[\"Superman\",\"Batman\",\"Wonder woman\"],\n",
        "               \"villanos\":[\"lex luthor\", \"joker\", \"cheetah\"],\n",
        "               \"indentidadsecreta\": [\"clark kent\",\"Bruce wayne\",\"diana prince\"]}\n",
        "\n",
        "print(\"Diccionario liga_justicia original:\", liga_justicia)\n",
        "liga_justicia.update({\"sede\": \"Salón de la Justicia\"})\n",
        "print(\"Después de agregar 'sede':\", liga_justicia)\n",
        "\n",
        "liga_justicia.update({\"villanos\": [\"Doctor Silavana\", \"Gorilla Grodd\"]})\n",
        "print(\"Después de actualizar 'villanos':\", liga_justicia)\n",
        "\n",
        "liga_justicia.update(fundacion=\"1960\")\n",
        "print(\"Después de agregar 'fundacion' con argumento de palabra clave:\", liga_justicia)"
      ],
      "execution_count": 10,
      "outputs": [
        {
          "output_type": "stream",
          "name": "stdout",
          "text": [
            "Diccionario liga_justicia original: {'superhéroes': ['Superman', 'Batman', 'Wonder woman'], 'villanos': ['lex luthor', 'joker', 'cheetah'], 'indentidadsecreta': ['clark kent', 'Bruce wayne', 'diana prince']}\n",
            "Después de agregar 'sede': {'superhéroes': ['Superman', 'Batman', 'Wonder woman'], 'villanos': ['lex luthor', 'joker', 'cheetah'], 'indentidadsecreta': ['clark kent', 'Bruce wayne', 'diana prince'], 'sede': 'Salón de la Justicia'}\n",
            "Después de actualizar 'villanos': {'superhéroes': ['Superman', 'Batman', 'Wonder woman'], 'villanos': ['Doctor Silavana', 'Gorilla Grodd'], 'indentidadsecreta': ['clark kent', 'Bruce wayne', 'diana prince'], 'sede': 'Salón de la Justicia'}\n",
            "Después de agregar 'fundacion' con argumento de palabra clave: {'superhéroes': ['Superman', 'Batman', 'Wonder woman'], 'villanos': ['Doctor Silavana', 'Gorilla Grodd'], 'indentidadsecreta': ['clark kent', 'Bruce wayne', 'diana prince'], 'sede': 'Salón de la Justicia', 'fundacion': '1960'}\n"
          ]
        }
      ]
    },
    {
      "cell_type": "markdown",
      "source": [
        "`.keys`"
      ],
      "metadata": {
        "id": "9JIow7wHyVoA"
      }
    },
    {
      "cell_type": "code",
      "source": [
        "liga_justicia.keys()"
      ],
      "metadata": {
        "colab": {
          "base_uri": "https://localhost:8080/"
        },
        "id": "71YXrSC5yJhw",
        "outputId": "1fe0ecb9-ac26-4e68-fed9-26b7209943be"
      },
      "execution_count": 11,
      "outputs": [
        {
          "output_type": "execute_result",
          "data": {
            "text/plain": [
              "dict_keys(['superhéroes', 'villanos', 'indentidadsecreta', 'sede', 'fundacion'])"
            ]
          },
          "metadata": {},
          "execution_count": 11
        }
      ]
    }
  ]
}