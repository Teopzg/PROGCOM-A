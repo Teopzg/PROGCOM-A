{
  "nbformat": 4,
  "nbformat_minor": 0,
  "metadata": {
    "colab": {
      "provenance": [],
      "authorship_tag": "ABX9TyNp1gW6Mrc7AJTqwec6wcSh",
      "include_colab_link": true
    },
    "kernelspec": {
      "name": "python3",
      "display_name": "Python 3"
    },
    "language_info": {
      "name": "python"
    }
  },
  "cells": [
    {
      "cell_type": "markdown",
      "metadata": {
        "id": "view-in-github",
        "colab_type": "text"
      },
      "source": [
        "<a href=\"https://colab.research.google.com/github/Teopzg/PROGCOM-A/blob/main/gp3.ipynb\" target=\"_parent\"><img src=\"https://colab.research.google.com/assets/colab-badge.svg\" alt=\"Open In Colab\"/></a>"
      ]
    },
    {
      "cell_type": "code",
      "execution_count": null,
      "metadata": {
        "colab": {
          "base_uri": "https://localhost:8080/"
        },
        "id": "gN7HGxrBfAYb",
        "outputId": "65f0ba4a-d742-4ef8-9cde-b086aada9693"
      },
      "outputs": [
        {
          "output_type": "stream",
          "name": "stdout",
          "text": [
            "--- Planificación de Producción Diaria ---\n",
            "Tiempo total disponible: 15 horas.\n",
            "\n",
            "Tarea 'Produccion Producto A' programada. Duración: 8 horas.\n",
            "Tiempo restante: 7 horas.\n",
            "Tarea 'Ensamblaje final' programada. Duración: 4 horas.\n",
            "Tiempo restante: 3 horas.\n",
            "Tarea 'Mantenimiento de Maquina' programada. Duración: 2 horas.\n",
            "Tiempo restante: 1 horas.\n",
            "\n",
            "No hay suficiente tiempo para la tarea 'Produccion Producto C'.\n",
            "El resto de las tareas no se pueden completar hoy.\n",
            "\n",
            "--- Resumen de la Planificación ---\n",
            "Tareas programadas: Produccion Producto A, Ensamblaje final, Mantenimiento de Maquina\n",
            "Tiempo de producción utilizado: 14 horas.\n",
            "Tiempo de producción restante: 1 horas.\n"
          ]
        }
      ],
      "source": [
        "def planificar_produccion(tareas, tiempo_disponible):\n",
        "    \"\"\"\n",
        "    Planifica la ejecución de tareas por prioridad para un día de producción.\n",
        "\n",
        "    Args:\n",
        "        tareas (list): Una lista de diccionarios, donde cada diccionario representa una tarea.\n",
        "                      Ejemplo: [{'nombre': 'Pedido A', 'duracion': 3, 'prioridad': 2}]\n",
        "        tiempo_disponible (int): Horas totales de producción disponibles en el día.\n",
        "\n",
        "    Returns:\n",
        "        tuple: Una tupla con las tareas programadas y el tiempo restante.\n",
        "    \"\"\"\n",
        "\n",
        "    # 1. Ordenar las tareas por prioridad (de menor a mayor número, donde 1 es la más alta)\n",
        "    # Usamos una función 'lambda' para decirle a sorted que ordene por la clave 'prioridad'\n",
        "    tareas_ordenadas = sorted(tareas, key=lambda x: x['prioridad'])\n",
        "\n",
        "    tiempo_restante = tiempo_disponible\n",
        "    tareas_programadas = []\n",
        "\n",
        "    # 2. Recorrer las tareas ordenadas y planificar su ejecución\n",
        "    for tarea in tareas_ordenadas:\n",
        "        duracion_tarea = tarea['duracion']\n",
        "\n",
        "        # 3. Verificar si hay suficiente tiempo para la tarea\n",
        "        if duracion_tarea <= tiempo_restante:\n",
        "            # Si hay tiempo, se programa la tarea y se actualiza el tiempo restante\n",
        "            tareas_programadas.append(tarea)\n",
        "            tiempo_restante -= duracion_tarea\n",
        "            print(f\"Tarea '{tarea['nombre']}' programada. Duración: {duracion_tarea} horas.\")\n",
        "            print(f\"Tiempo restante: {tiempo_restante} horas.\")\n",
        "        else:\n",
        "            # Si no hay tiempo, la tarea no se puede programar y el ciclo termina\n",
        "            print(f\"\\nNo hay suficiente tiempo para la tarea '{tarea['nombre']}'.\")\n",
        "            print(\"El resto de las tareas no se pueden completar hoy.\")\n",
        "            break\n",
        "\n",
        "    return tareas_programadas, tiempo_restante\n",
        "\n",
        "# --- Ejemplo de uso del programa ---\n",
        "\n",
        "# Definir la lista de tareas con su duración y prioridad\n",
        "tareas_del_dia = [\n",
        "    {'nombre': 'Produccion Producto C', 'duracion': 5, 'prioridad': 3},\n",
        "    {'nombre': 'Produccion Producto A', 'duracion': 8, 'prioridad': 1},\n",
        "    {'nombre': 'Mantenimiento de Maquina', 'duracion': 2, 'prioridad': 2},\n",
        "    {'nombre': 'Ensamblaje final', 'duracion': 4, 'prioridad': 1},\n",
        "    {'nombre': 'Inspeccion de calidad', 'duracion': 3, 'prioridad': 4},\n",
        "]\n",
        "\n",
        "# Definir el tiempo de producción disponible para el día\n",
        "horas_disponibles = 15\n",
        "\n",
        "print(\"--- Planificación de Producción Diaria ---\")\n",
        "print(f\"Tiempo total disponible: {horas_disponibles} horas.\\n\")\n",
        "\n",
        "# Ejecutar la función de planificación\n",
        "tareas_ejecutadas, tiempo_final = planificar_produccion(tareas_del_dia, horas_disponibles)\n",
        "\n",
        "print(\"\\n--- Resumen de la Planificación ---\")\n",
        "if tareas_ejecutadas:\n",
        "    nombres_tareas = [t['nombre'] for t in tareas_ejecutadas]\n",
        "    print(f\"Tareas programadas: {', '.join(nombres_tareas)}\")\n",
        "    print(f\"Tiempo de producción utilizado: {horas_disponibles - tiempo_final} horas.\")\n",
        "    print(f\"Tiempo de producción restante: {tiempo_final} horas.\")\n",
        "else:\n",
        "    print(\"No se pudo programar ninguna tarea.\")"
      ]
    }
  ]
}