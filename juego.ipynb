{
  "nbformat": 4,
  "nbformat_minor": 0,
  "metadata": {
    "colab": {
      "provenance": [],
      "authorship_tag": "ABX9TyOuzoT344nA/jJll+GCavG5",
      "include_colab_link": true
    },
    "kernelspec": {
      "name": "python3",
      "display_name": "Python 3"
    },
    "language_info": {
      "name": "python"
    }
  },
  "cells": [
    {
      "cell_type": "markdown",
      "metadata": {
        "id": "view-in-github",
        "colab_type": "text"
      },
      "source": [
        "<a href=\"https://colab.research.google.com/github/Teopzg/PROGCOM-A/blob/main/juego.ipynb\" target=\"_parent\"><img src=\"https://colab.research.google.com/assets/colab-badge.svg\" alt=\"Open In Colab\"/></a>"
      ]
    },
    {
      "cell_type": "code",
      "execution_count": null,
      "metadata": {
        "colab": {
          "base_uri": "https://localhost:8080/"
        },
        "id": "zRevQCULhMRV",
        "outputId": "aecb1565-26d4-43db-82cb-3588755f6b55"
      },
      "outputs": [
        {
          "output_type": "stream",
          "name": "stdout",
          "text": [
            "¡Bienvenido al Desafío de los 32 Departamentos de Colombia! \n",
            "Te daré una pista y tu debes adivinar a qué departamento me refiero.\n",
            "Veamos que tan conocedor eres ¡good luck!\n",
            "\n",
            "----------------------------------------------------\n",
            "Pista: Soy el 'Corralito de Piedra' y mi capital es un 'Patrimonio de la Humanidad'.\n"
          ]
        }
      ],
      "source": [
        "import random\n",
        "\n",
        "# Diccionario de departamentos con pistas más detalladas\n",
        "dep_pistas = {\n",
        "    \"Amazonas\": \"Soy la puerta de entrada a la selva más grande del mundo en Colombia, mi capital es la 'Isla de la Aventura'.\",\n",
        "    \"Antioquia\": \"Soy conocido como la 'Montaña de Oro' y mi capital es la 'Ciudad de la Eterna Primavera'.\",\n",
        "    \"Arauca\": \"Soy una tierra de llanos y soy la 'Puerta de Oro de los Llanos Orientales'.\",\n",
        "    \"Atlántico\": \"Soy el hogar de uno de los carnavales más grandes del mundo y mi capital es el 'Pórtico de Oro de Colombia'.\",\n",
        "    \"Bolívar\": \"Soy el 'Corralito de Piedra' y mi capital es un 'Patrimonio de la Humanidad'.\",\n",
        "    \"Boyacá\": \"Soy la 'Cuna de la Libertad' y mi capital es la 'Ciudad del Milagro'.\",\n",
        "    \"Caldas\": \"Soy el corazón del 'Eje Cafetero' y tengo un nevado que domina el paisaje.\",\n",
        "    \"Caquetá\": \"Soy una región de selva exuberante y mi capital es la 'Puerta de Oro de la Amazonia'.\",\n",
        "    \"Casanare\": \"Soy el centro de la 'Gran Sabana' colombiana, con mucha fauna silvestre.\",\n",
        "    \"Cauca\": \"Soy una tierra de volcanes y tengo una ciudad blanca conocida por su arquitectura colonial.\",\n",
        "    \"Cesar\": \"Soy la tierra del 'Vallenato' y mi capital es la 'Ciudad de los Santos Reyes del Valle del Cacique'.\",\n",
        "    \"Chocó\": \"Soy el único departamento con costas en ambos océanos y soy la región más biodiversa.\",\n",
        "    \"Córdoba\": \"Soy una tierra de sabanas, ganado y gente musical con acento costeño.\",\n",
        "    \"Cundinamarca\": \"Soy el departamento que rodea a la capital del país, y tengo un parque de la sal asombroso.\",\n",
        "    \"Guainía\": \"Mi capital es la 'Flor de la Amazonía' y soy conocido por los cerros de Mavecure.\",\n",
        "    \"Guaviare\": \"Soy una tierra de pinturas rupestres y un río colorado que parece de otro mundo.\",\n",
        "    \"Huila\": \"Tengo el desierto más grande de Colombia, y mi capital se alza a orillas del río Magdalena.\",\n",
        "    \"La Guajira\": \"Soy el departamento del sol, la sal y las rancherías de la cultura Wayúu.\",\n",
        "    \"Magdalena\": \"Tengo la 'Perla de América' y una sierra nevada que es hogar de comunidades indígenas.\",\n",
        "    \"Meta\": \"Soy la 'Puerta del Llano' y mi capital es famosa por su coleo y arpas.\",\n",
        "    \"Nariño\": \"Soy una región de artesanos y volcanes, con un santuario en un puente majestuoso.\",\n",
        "    \"Norte de Santander\": \"Soy la tierra de la 'Batalla de Cúcuta' y mi capital es una ciudad de 'árboles de manga'.\",\n",
        "    \"Putumayo\": \"Soy una región de cascadas y naturaleza vibrante, con un río que me da el nombre.\",\n",
        "    \"Quindío\": \"Soy el departamento más pequeño de la región cafetera y mi capital es la 'Ciudad Milagro'.\",\n",
        "    \"Risaralda\": \"Soy una tierra de puentes colgantes, y mi capital es la 'Perla del Otún'.\",\n",
        "    \"San Andrés y Providencia\": \"Soy una isla en el Caribe, con aguas de 'siete colores' y cultura 'rasta'.\",\n",
        "    \"Santander\": \"Soy la tierra del 'Cañón del Chicamocha' y mi gente es conocida por ser berraca.\",\n",
        "    \"Sucre\": \"Soy una tierra de sabanas y mi capital tiene un festival de acordeones y corralejas.\",\n",
        "    \"Tolima\": \"Soy el corazón musical de Colombia y mi capital es conocida como la 'Ciudad de los Parques'.\",\n",
        "    \"Valle del Cauca\": \"Soy la 'capital de la salsa' y mi río le da el nombre a mi capital.\",\n",
        "    \"Vaupés\": \"Soy una región de selva con un nombre que significa 'río del arcoíris' en la lengua local.\",\n",
        "    \"Vichada\": \"Soy una tierra de llanos y mi capital se encuentra a orillas del río Orinoco.\"\n",
        "}\n",
        "\n",
        "depdis = list(dep_pistas.keys())\n",
        "puntuacion = 0\n",
        "\n",
        "print(\"¡Bienvenido al Desafío de los 32 Departamentos de Colombia! \")\n",
        "print(\"Te daré una pista y tu debes adivinar a qué departamento me refiero.\")\n",
        "print(\"Veamos que tan conocedor eres ¡good luck!\")\n",
        "\n",
        "while depdis:\n",
        "    dep_sec = random.choice(depdis)\n",
        "    pista = dep_pistas[dep_sec]\n",
        "\n",
        "    print(\"\\n----------------------------------------------------\")\n",
        "    print(f\"Pista: {pista}\")\n",
        "\n",
        "    respuesta = input(\"¿A qué departamento me refiero? (O escribe 'salir' para terminar): \").capitalize()\n",
        "\n",
        "    if respuesta.lower() == 'salir':\n",
        "        print(f\"\\n¡Gracias por jugar! Tu puntuación final es: {puntuacion} de {len(depdis)}.\")\n",
        "        print(\"¡Hasta la próxima, colega!\")\n",
        "        break\n",
        "\n",
        "    if respuesta == dep_sec:\n",
        "        puntuacion += 1\n",
        "        print(f\"¡Correcto! ¡Vas bien!  Llevas {puntuacion} puntos.\")\n",
        "        depdis.remove(dep_sec)\n",
        "\n",
        "        if not depdis:\n",
        "            print(f\"\\n¡Lo has logrado! ¡Has adivinado todos los departamentos! Tu puntuación final es de {puntuacion}.\")\n",
        "            print(\"¡Eres un verdadero conocedor de Colombia! ¡Congrats! \")\n",
        "\n",
        "    else:\n",
        "        print(f\"¡Oops, respuesta incorrecta! La respuesta correcta era: {dep_sec}.\")\n",
        "        print(\"¡No te preocupes! ¡Aún quedan más oportunidades para intentarlo! \")\n",
        "\n",
        "if not depdis and puntuacion == len(dep_pistas):\n",
        "    print(\"\\n¡Misión cumplida! ¡Has dominado la geografía de Colombia!\")"
      ]
    }
  ]
}