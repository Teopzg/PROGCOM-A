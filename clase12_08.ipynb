{
  "nbformat": 4,
  "nbformat_minor": 0,
  "metadata": {
    "colab": {
      "provenance": []
    },
    "kernelspec": {
      "name": "python3",
      "display_name": "Python 3"
    },
    "language_info": {
      "name": "python"
    }
  },
  "cells": [
    {
      "cell_type": "markdown",
      "source": [
        "##Estructura if-else\n",
        "\n",
        "\n",
        "```\n",
        "if (condición):\n",
        "   entro aquí, si la condición es V\n",
        "   else:\n",
        "   entro aquí, si la condición es F.\n",
        "```\n",
        "\n"
      ],
      "metadata": {
        "id": "250O4eGEt3vT"
      }
    },
    {
      "cell_type": "code",
      "execution_count": 9,
      "metadata": {
        "colab": {
          "base_uri": "https://localhost:8080/"
        },
        "id": "U8Xm93Z4tyHe",
        "outputId": "23c57931-3072-4823-bfff-403e38484b56"
      },
      "outputs": [
        {
          "output_type": "stream",
          "name": "stdout",
          "text": [
            "ingrese un número 8\n",
            "8 es un numero positivo\n"
          ]
        }
      ],
      "source": [
        "#escribe un programa que reciba un número e indique si es positivo\n",
        "n = int(input(\"ingrese un número\"))\n",
        "if n>0:\n",
        "  print(f\"{n} es un numero positivo\")\n",
        "else:\n",
        "  print(n,\" NO es un número positivo\")"
      ]
    },
    {
      "cell_type": "markdown",
      "source": [
        "##seleccion múltiple if-elif-else\n",
        "\n",
        "```\n",
        "if (condición1):\n",
        "   si se cumple condición 1, entro\n",
        "   aquí\n",
        "elif (condición2):\n",
        "   si no se cumple condición 1,\n",
        "   pero se cumple condición 2,\n",
        "   entro aquí\n",
        "else:\n",
        "   si no se cumple ninguna de las\n",
        "   anteriores\n",
        "```\n",
        "\n"
      ],
      "metadata": {
        "id": "1IKSPFsn0MpE"
      }
    },
    {
      "cell_type": "code",
      "source": [
        "#escribe un programa que reciba un número e indique si es positivo\n",
        "if n>0:print(f\"{n} es un numero positivo\")\n",
        "elif n<0: print(n,\" NO es un número positivo\")\n",
        "else: print(f\"{n} es 0\")"
      ],
      "metadata": {
        "colab": {
          "base_uri": "https://localhost:8080/"
        },
        "id": "fGFS0G5Jz_ds",
        "outputId": "f4b9fddd-fe2b-4812-894d-e494da4d8db8"
      },
      "execution_count": 10,
      "outputs": [
        {
          "output_type": "stream",
          "name": "stdout",
          "text": [
            "8 es un numero positivo\n"
          ]
        }
      ]
    },
    {
      "cell_type": "markdown",
      "source": [
        "##operador terniario\n",
        "se usa cuando hay una condición a evaluar simple y se desea resolver en una linea de código\n",
        "\n",
        "\n",
        "```\n",
        "(valor de verdad V) if (condición) else (valor de verdad F)\n",
        "```\n",
        "\n"
      ],
      "metadata": {
        "id": "Z-PoL8in18V6"
      }
    },
    {
      "cell_type": "code",
      "source": [
        "print(f\"{n} es un numero positivo\") if n>0 else print(n,\" NO es un número positivo\")"
      ],
      "metadata": {
        "colab": {
          "base_uri": "https://localhost:8080/"
        },
        "id": "DsfmYbmW2dYa",
        "outputId": "04ede8e8-78ad-4398-e006-6c0196edf831"
      },
      "execution_count": 12,
      "outputs": [
        {
          "output_type": "stream",
          "name": "stdout",
          "text": [
            "8 es un numero positivo\n"
          ]
        }
      ]
    },
    {
      "cell_type": "code",
      "source": [
        "a=f\"{n} es un numero positivo\" if n>0 else f\"{n} NO es un numero positivo\"\n",
        "print(a)"
      ],
      "metadata": {
        "colab": {
          "base_uri": "https://localhost:8080/"
        },
        "id": "iVk59z-z35_q",
        "outputId": "ecda2d6e-c34a-41d6-e6d0-c162ca481e79"
      },
      "execution_count": 11,
      "outputs": [
        {
          "output_type": "stream",
          "name": "stdout",
          "text": [
            "8 es un numero positivo\n"
          ]
        }
      ]
    },
    {
      "cell_type": "markdown",
      "source": [
        "##Ejercicio 2"
      ],
      "metadata": {
        "id": "u_H5wgrR6xtO"
      }
    },
    {
      "cell_type": "code",
      "source": [
        "#Escribe un programa que reciba una edad y determine si la persona es mayor de edad\n",
        "e=int(input(\"Ingrese tú edad\"))\n",
        "if e>=18:\n",
        "  print(f\"{e} eres mayor de edad\")\n",
        "else:\n",
        "  print(e,\" NO eres mayor de edad\")"
      ],
      "metadata": {
        "colab": {
          "base_uri": "https://localhost:8080/"
        },
        "id": "LZL5jgrN6kq-",
        "outputId": "d4af1cf3-0d18-4741-bf33-9ba6c786bc28"
      },
      "execution_count": 23,
      "outputs": [
        {
          "output_type": "stream",
          "name": "stdout",
          "text": [
            "Ingrese tú edad24\n",
            "24 eres mayor de edad\n"
          ]
        }
      ]
    },
    {
      "cell_type": "code",
      "source": [
        "#escribe un programa que reciba una edad y determine si la persona es mayor de edad\n",
        "if e>=18: print(f\"{e} eres mayor de edad\")\n",
        "elif e>=18: print(e,\" NO eres mayor de edad\")\n",
        "else: print(f\"{e} es 0\")"
      ],
      "metadata": {
        "colab": {
          "base_uri": "https://localhost:8080/"
        },
        "id": "X4ylMglU775N",
        "outputId": "f11be17a-21b0-49f7-b053-0096a4e81380"
      },
      "execution_count": 22,
      "outputs": [
        {
          "output_type": "stream",
          "name": "stdout",
          "text": [
            "24 eres mayor de edad\n"
          ]
        }
      ]
    },
    {
      "cell_type": "code",
      "source": [
        "print(f\"el numero mayor es {n1}\")"
      ],
      "metadata": {
        "id": "8_WwB6Lj8jNE"
      },
      "execution_count": null,
      "outputs": []
    },
    {
      "cell_type": "code",
      "source": [
        "b=f\"{e} eres mayor de edad\" if e>=18 else f\"{n} NO eres mayor de edad\"\n",
        "print(b)"
      ],
      "metadata": {
        "colab": {
          "base_uri": "https://localhost:8080/"
        },
        "id": "HZdnUTvk8bEW",
        "outputId": "7625e5f7-da9d-4794-dca5-1871354cdad1"
      },
      "execution_count": 21,
      "outputs": [
        {
          "output_type": "stream",
          "name": "stdout",
          "text": [
            "24 eres mayor de edad\n"
          ]
        }
      ]
    },
    {
      "cell_type": "markdown",
      "source": [
        "##Ejercicio 3"
      ],
      "metadata": {
        "id": "dTWSxlNb9pID"
      }
    },
    {
      "cell_type": "code",
      "source": [
        "#escribe un programa que reciba dos numeros e imprima el mayor\n",
        "n1= int(input(\"ingrese el primer número\"))\n",
        "n2= int(input(\"ingrese el segundo número\"))\n",
        "if n1>n2:\n",
        "  print(f\"el numero mayor es {n1}\")\n",
        "else:\n",
        "  print(f\"el numero mayor es {n2}\")"
      ],
      "metadata": {
        "colab": {
          "base_uri": "https://localhost:8080/"
        },
        "id": "3Tdzlx5q_1P7",
        "outputId": "6180c0ce-96e3-4601-eeb0-be4a21c1f65e"
      },
      "execution_count": 26,
      "outputs": [
        {
          "output_type": "stream",
          "name": "stdout",
          "text": [
            "ingrese el primer número4\n",
            "ingrese el segundo número6\n",
            "el numero mayor es 6\n"
          ]
        }
      ]
    },
    {
      "cell_type": "code",
      "source": [
        "#escribe un programa que reciba dos numeros e imprima el mayor\n",
        "n1= int(input(\"ingrese el primer número\"))\n",
        "n2= int(input(\"ingrese el segundo número\"))\n",
        "if n1>n2:\n",
        "  print(f\"el numero mayor es {n1}\")\n",
        "elif n2>n1:\n",
        "  print(f\"el numero mayor es {n2}\")\n",
        "else:\n",
        "  print(\"ambos numeros son iguales\")"
      ],
      "metadata": {
        "colab": {
          "base_uri": "https://localhost:8080/"
        },
        "id": "2PYWUhJx9hDl",
        "outputId": "cfd693fa-1b71-4a53-e89b-577db3d6736f"
      },
      "execution_count": 25,
      "outputs": [
        {
          "output_type": "stream",
          "name": "stdout",
          "text": [
            "ingrese el primer número 4\n",
            "ingrese el segundo número 6\n",
            "el numero mayor es 6\n"
          ]
        }
      ]
    },
    {
      "cell_type": "code",
      "source": [
        "n1= int(input(\"ingrese el primer número\"))\n",
        "n2= int(input(\"ingrese el segundo número\"))\n",
        "m= f\" el numero mayor es {num1}\" if n1>n2 else f\"el numero mayor es {n2}\"\n",
        "print(m)"
      ],
      "metadata": {
        "colab": {
          "base_uri": "https://localhost:8080/"
        },
        "id": "KIv0x6FI_Tya",
        "outputId": "0dc22b2e-4318-4d13-f44a-11a724e56db8"
      },
      "execution_count": 29,
      "outputs": [
        {
          "output_type": "stream",
          "name": "stdout",
          "text": [
            "ingrese el primer número 4\n",
            "ingrese el segundo número 6\n",
            "el numero mayor es 6\n"
          ]
        }
      ]
    },
    {
      "cell_type": "markdown",
      "source": [
        "##Ejercicio 4"
      ],
      "metadata": {
        "id": "OLw7llJ3BCH6"
      }
    },
    {
      "cell_type": "code",
      "source": [
        "#escribe un programa que reciba una calificación (0-100) e indique si es Aprobado (>=60) o Reprobado.\n",
        "c= int(input(\"ingrese su calificacion (0-100)\"))\n",
        "if c>=60:\n",
        "  print(f\"{c} aprobado\")\n",
        "else:\n",
        "   print(f\"{c} reprobado\")"
      ],
      "metadata": {
        "colab": {
          "base_uri": "https://localhost:8080/"
        },
        "id": "XRVKDQGgBA9B",
        "outputId": "c146ed8b-7c24-4f25-a5e2-5dddcc80672c"
      },
      "execution_count": 32,
      "outputs": [
        {
          "output_type": "stream",
          "name": "stdout",
          "text": [
            "ingrese su calificacion (0-100) 70\n",
            "70 aprobado\n"
          ]
        }
      ]
    },
    {
      "cell_type": "code",
      "source": [
        "c= int(input(\"ingrese su calificacion (0-100)\"))\n",
        "if c>=60:\n",
        "  print(f\"{c} aprobado\")\n",
        "else:\n",
        "   print(f\"{c} reprobado\")"
      ],
      "metadata": {
        "id": "Otlq_hLeCAqo"
      },
      "execution_count": null,
      "outputs": []
    },
    {
      "cell_type": "code",
      "source": [
        "# Escribe un programa que reciba una calificación (0-100) y clasifique el resultado\n",
        "c = int(input(\"Ingrese su calificación (0-100): \"))\n",
        "\n",
        "if c >= 90:\n",
        "    print(f\"{c} : Excelente\")\n",
        "elif c >= 75:\n",
        "    print(f\"{c} : Bueno\")\n",
        "elif c >= 60:\n",
        "    print(f\"{c} : Regular - Aprobado\")\n",
        "else:\n",
        "    print(f\"{c} : Reprobado\")"
      ],
      "metadata": {
        "colab": {
          "base_uri": "https://localhost:8080/"
        },
        "id": "iAT75kgODMG_",
        "outputId": "4419b5b8-f2be-4057-a48d-a1212ed87011"
      },
      "execution_count": 34,
      "outputs": [
        {
          "output_type": "stream",
          "name": "stdout",
          "text": [
            "Ingrese su calificación (0-100):  70\n",
            "70 : Regular - Aprobado\n"
          ]
        }
      ]
    },
    {
      "cell_type": "code",
      "source": [
        "# Escribe un programa que reciba una calificación (0-100) e indique si es Aprobado o Reprobado (>=60)\n",
        "c = int(input(\"Ingrese su calificación (0-100): \"))\n",
        "\n",
        "m = f\"{c} : Aprobado\" if c >= 60 else f\"{c} : Reprobado\"\n",
        "print(m)"
      ],
      "metadata": {
        "colab": {
          "base_uri": "https://localhost:8080/"
        },
        "id": "e6iq91HpDQOm",
        "outputId": "3b14d006-4f90-4748-de5f-2198acc88e1e"
      },
      "execution_count": 33,
      "outputs": [
        {
          "output_type": "stream",
          "name": "stdout",
          "text": [
            "Ingrese su calificación (0-100):  70\n",
            "70 : Aprobado\n"
          ]
        }
      ]
    },
    {
      "cell_type": "markdown",
      "source": [
        "##Ejercicio 5"
      ],
      "metadata": {
        "id": "7IGaV7dIDiLu"
      }
    },
    {
      "cell_type": "code",
      "source": [
        "#Escribe un programa que determine si un número es par o impar."
      ],
      "metadata": {
        "id": "Vmu4ZgaxDi4G"
      },
      "execution_count": null,
      "outputs": []
    }
  ]
}