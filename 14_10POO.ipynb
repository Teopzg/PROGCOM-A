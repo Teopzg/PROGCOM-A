{
  "nbformat": 4,
  "nbformat_minor": 0,
  "metadata": {
    "colab": {
      "provenance": [],
      "include_colab_link": true
    },
    "kernelspec": {
      "name": "python3",
      "display_name": "Python 3"
    },
    "language_info": {
      "name": "python"
    }
  },
  "cells": [
    {
      "cell_type": "markdown",
      "metadata": {
        "id": "view-in-github",
        "colab_type": "text"
      },
      "source": [
        "<a href=\"https://colab.research.google.com/github/Teopzg/PROGCOM-A/blob/main/14_10POO.ipynb\" target=\"_parent\"><img src=\"https://colab.research.google.com/assets/colab-badge.svg\" alt=\"Open In Colab\"/></a>"
      ]
    },
    {
      "cell_type": "code",
      "execution_count": null,
      "metadata": {
        "colab": {
          "base_uri": "https://localhost:8080/"
        },
        "id": "nXdpzrSwL66Y",
        "outputId": "5505c405-a111-438d-d1d4-2d4e2ba505c5"
      },
      "outputs": [
        {
          "output_type": "execute_result",
          "data": {
            "text/plain": [
              "['tulipán', 'lirio', 'rosa']"
            ]
          },
          "metadata": {},
          "execution_count": 1
        }
      ],
      "source": [
        "#Floristeria\n",
        "#1. Conjunto de flores, se elige aleatoriamente una cantidad\n",
        "import random\n",
        "\n",
        "flores=[\"tulipán\",\"lirio\",\"rosa\",\"dahlia\",\"margarita\",\"girasol\",\"clavel\",\"geranio\"]\n",
        "seleccion=random.sample(flores,3)\n",
        "seleccion"
      ]
    },
    {
      "cell_type": "code",
      "source": [
        "def inventario():\n",
        "  flores=[\"tulipán\",\"lirio\",\"rosa\",\"dahlia\",\"margarita\",\"girasol\",\"clavel\",\"geranio\"]\n",
        "  seleccion=random.sample(flores,3)\n",
        "\n",
        "  inventario={\n",
        "      flor:{\n",
        "          \"precio\":random.randint(2000,6000),\n",
        "          \"cantidad\":random.randint(10,50),\n",
        "          \"vendidas\":0\n",
        "      } for flor in seleccion\n",
        "      }\n",
        "  return inventario"
      ],
      "metadata": {
        "id": "cXHi-z11Pbz_"
      },
      "execution_count": null,
      "outputs": []
    },
    {
      "cell_type": "code",
      "source": [
        "inventario()"
      ],
      "metadata": {
        "colab": {
          "base_uri": "https://localhost:8080/"
        },
        "id": "qOjSmH1XRM4W",
        "outputId": "a7301708-1f1e-4f34-9815-09b301ae68af"
      },
      "execution_count": null,
      "outputs": [
        {
          "output_type": "execute_result",
          "data": {
            "text/plain": [
              "{'geranio': {'precio': 2260, 'cantidad': 39, 'vendidas': 0},\n",
              " 'lirio': {'precio': 4925, 'cantidad': 34, 'vendidas': 0},\n",
              " 'dahlia': {'precio': 5630, 'cantidad': 36, 'vendidas': 0}}"
            ]
          },
          "metadata": {},
          "execution_count": 3
        }
      ]
    },
    {
      "cell_type": "code",
      "source": [
        "def menu(inventario):\n",
        "  print(\"\\n---MENÚ DE FLORES DISPONIBLES FLORISTERIA CARLITOS---\")\n",
        "  for flor,datos in inventario.items():\n",
        "    print(f\"{flor}: ${datos['precio']} cant: {datos['cantidad']} disponibles\")\n",
        "  print(\"-----------------------------------------------------------\")\n"
      ],
      "metadata": {
        "id": "p4HAaU8oREs8"
      },
      "execution_count": null,
      "outputs": []
    },
    {
      "cell_type": "code",
      "source": [
        "menu(inventario())"
      ],
      "metadata": {
        "colab": {
          "base_uri": "https://localhost:8080/"
        },
        "id": "dOXTgEQNS_wD",
        "outputId": "81a881e2-6749-4a44-fb50-7a2e302bcfb5"
      },
      "execution_count": null,
      "outputs": [
        {
          "output_type": "stream",
          "name": "stdout",
          "text": [
            "\n",
            "---MENÚ DE FLORES DISPONIBLES FLORISTERIA CARLITOS---\n",
            "lirio: $4533 cant: 24 disponibles\n",
            "clavel: $3637 cant: 43 disponibles\n",
            "margarita: $2617 cant: 47 disponibles\n",
            "-----------------------------------------------------------\n"
          ]
        }
      ]
    },
    {
      "cell_type": "code",
      "source": [
        "def ventas(inventario,flor,cantidad,total_ganado):\n",
        "  if flor not in inventario:\n",
        "    print(f\"{flor} no se encuentra a la venta\")\n",
        "    return total_ganado\n",
        "  datos=inventario[flor]\n",
        "  if cantidad>datos[\"cantidad\"]:\n",
        "    print(f\"Lo siento. No tenemos la cantidad requerida\")\n",
        "    return total_ganado\n",
        "\n",
        "    #Realizando la venta\n",
        "    datos[\"cantidad\"]-=cantidad\n",
        "    datos[\"vendidas\"]+=cantidad\n",
        "    venta= datos[\"precio\"] * cantidad\n",
        "    total_ganado+=venta\n",
        "    print(f\"Vendidas: {cantidad} de {flor} por un total de ${venta}\")\n",
        "\n",
        "    #Si se acaba, eliminamos la flor\n",
        "    if datos [\"cantidad\"]==0:\n",
        "      print(f\"{flor} ha sido eliminada del inventario\")\n",
        "      del inventario[flores]\n",
        "    return total_ganado"
      ],
      "metadata": {
        "id": "FH6mWg1xWLvS"
      },
      "execution_count": null,
      "outputs": []
    },
    {
      "cell_type": "code",
      "source": [
        "def cerrar_tienda(inventario_inicial, inventario_final, total_ganado):\n",
        "  print(\"\\n----Tienda Cerrada---\")\n",
        "  #Combinar el inventario inicial con el final para saver cuántas se vendieron\n",
        "  flores_vendidas={}\n",
        "  for flor,datos in inventario_inicial.items():\n",
        "    cantidad_final=inventario_final.get(flor,[\"cantidad\":0])[\"cantidad\"]\n",
        "    vendidas=datos[\"cantidad\"]-cantidad_final\n",
        "    flores_vendidas[flor]=vendidas\n",
        "\n",
        "    #Determinar cuáles fueron las más vendidas\n",
        "    mas_vendidas=max(flores_vendidas,key=flores_vendidas.get)\n",
        "    menos_vendidas=min(flores_vendidas,key=flores_vendidas.get)\n",
        "\n",
        "    print(f\"La flor más vendida es: {mas_vendidas}:\")\n",
        "    print(f\"La flor menos vendida fue \")"
      ],
      "metadata": {
        "colab": {
          "base_uri": "https://localhost:8080/",
          "height": 106
        },
        "id": "saW1Zj0XZsIg",
        "outputId": "82c583c2-ac18-471f-9cdc-c70e782edbd0"
      },
      "execution_count": null,
      "outputs": [
        {
          "output_type": "error",
          "ename": "SyntaxError",
          "evalue": "invalid syntax (ipython-input-877526896.py, line 6)",
          "traceback": [
            "\u001b[0;36m  File \u001b[0;32m\"/tmp/ipython-input-877526896.py\"\u001b[0;36m, line \u001b[0;32m6\u001b[0m\n\u001b[0;31m    cantidad_final=inventario_final.get(flor,[\"cantidad\":0])[\"cantidad\"]\u001b[0m\n\u001b[0m                                                        ^\u001b[0m\n\u001b[0;31mSyntaxError\u001b[0m\u001b[0;31m:\u001b[0m invalid syntax\n"
          ]
        }
      ]
    }
  ]
}