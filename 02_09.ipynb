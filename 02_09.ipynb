{
  "nbformat": 4,
  "nbformat_minor": 0,
  "metadata": {
    "colab": {
      "provenance": [],
      "authorship_tag": "ABX9TyNwxiO7/UhbqVh7wG2SYn2+",
      "include_colab_link": true
    },
    "kernelspec": {
      "name": "python3",
      "display_name": "Python 3"
    },
    "language_info": {
      "name": "python"
    }
  },
  "cells": [
    {
      "cell_type": "markdown",
      "metadata": {
        "id": "view-in-github",
        "colab_type": "text"
      },
      "source": [
        "<a href=\"https://colab.research.google.com/github/Teopzg/PROGCOM-A/blob/main/02_09.ipynb\" target=\"_parent\"><img src=\"https://colab.research.google.com/assets/colab-badge.svg\" alt=\"Open In Colab\"/></a>"
      ]
    },
    {
      "cell_type": "markdown",
      "source": [
        "1. list()\n",
        "2. len()\n",
        "3.print()\n",
        "4. append()#POO método\n",
        "5. int()\n",
        "6. input()\n"
      ],
      "metadata": {
        "id": "BpwxhfUT41U0"
      }
    },
    {
      "cell_type": "markdown",
      "source": [
        "##Tipos de funciones\n",
        "1. Sin parámetros, sin retorno\n",
        "2. Sin parámetros, con retorno\n",
        "3. Con parámetros, sin retorno\n",
        "4. Con parámetros, con retorno"
      ],
      "metadata": {
        "id": "bKNSMz836AtN"
      }
    },
    {
      "cell_type": "markdown",
      "source": [
        "###1. Sin parámetros, sin retorno\n",
        "se emplea como copiado dinámico"
      ],
      "metadata": {
        "id": "-CXRQFWF6nNr"
      }
    },
    {
      "cell_type": "code",
      "execution_count": 10,
      "metadata": {
        "id": "xhXmjGDo4y0f"
      },
      "outputs": [],
      "source": [
        "#ejemplo: entrada de cajero electrónico\n",
        "def cajero():# Esto significa que es sin parámetros\n",
        " print(\"Bienvenido a DaviUNAB\")\n",
        " print(\"Estas son las operaciones que puede realizar:\")\n",
        " print(\"1. Retirar\\n2. Transferencia\\n3. Denunciar\\n4. Operaciones sin tarjeta\")"
      ]
    },
    {
      "cell_type": "code",
      "source": [
        "cajero()"
      ],
      "metadata": {
        "colab": {
          "base_uri": "https://localhost:8080/"
        },
        "id": "Nt5KOCyB7rMy",
        "outputId": "7380b18d-a7e2-4aec-98ec-a23e1f7b971e"
      },
      "execution_count": 11,
      "outputs": [
        {
          "output_type": "stream",
          "name": "stdout",
          "text": [
            "Bienvenido a DaviUNAB\n",
            "Estas son las operaciones que puede realizar:\n",
            "1. Retirar\n",
            "2. Transferencia\n",
            "3. Denunciar\n",
            "4. Operaciones sin tarjeta\n"
          ]
        }
      ]
    },
    {
      "cell_type": "markdown",
      "source": [
        "###2. Sin parametros con retorno"
      ],
      "metadata": {
        "id": "Mi2do22e9ICA"
      }
    },
    {
      "cell_type": "code",
      "source": [
        "def cajero2():# Esto significa que es sin parámetros\n",
        " print(\"Bienvenido a DaviUNAB\")\n",
        " print(\"Estas son las operaciones que puede realizar:\")\n",
        " print(\"1. Retirar\\n2. Transferencia\\n3. Denunciar\\n4. Operaciones sin tarjeta\")\n",
        " rta=input(\"ingrese una opción\")#Variable local"
      ],
      "metadata": {
        "id": "BTs4mNgt9FtJ"
      },
      "execution_count": 12,
      "outputs": []
    },
    {
      "cell_type": "code",
      "source": [
        "rta=cajero2()"
      ],
      "metadata": {
        "colab": {
          "base_uri": "https://localhost:8080/"
        },
        "id": "SARVvCS791-o",
        "outputId": "1d0f4286-5b5a-4d50-c74a-3b37a0689b72"
      },
      "execution_count": 17,
      "outputs": [
        {
          "name": "stdout",
          "output_type": "stream",
          "text": [
            "Bienvenido a DaviUNAB\n",
            "Estas son las operaciones que puede realizar:\n",
            "1. Retirar\n",
            "2. Transferencia\n",
            "3. Denunciar\n",
            "4. Operaciones sin tarjeta\n",
            "ingrese una opción 1\n"
          ]
        }
      ]
    },
    {
      "cell_type": "code",
      "source": [
        "type(rta)"
      ],
      "metadata": {
        "id": "20NEEBg4_NLo"
      },
      "execution_count": null,
      "outputs": []
    },
    {
      "cell_type": "markdown",
      "source": [
        "###3. Con parametros sin retorno"
      ],
      "metadata": {
        "id": "OFKyN2a7_sie"
      }
    },
    {
      "cell_type": "code",
      "source": [
        "#ejemplo: el área de un rectangulo\n",
        "def ab(u,du):\n",
        "  print(f\" el área de un rectángulo de base {u} y altura {du} es {u*du}\")"
      ],
      "metadata": {
        "id": "kZBHp1W2Acge"
      },
      "execution_count": 18,
      "outputs": []
    },
    {
      "cell_type": "markdown",
      "source": [],
      "metadata": {
        "id": "Qttg-KsuAF3G"
      }
    },
    {
      "cell_type": "code",
      "source": [
        "a=ab(2,3)"
      ],
      "metadata": {
        "colab": {
          "base_uri": "https://localhost:8080/"
        },
        "id": "ZFjdRayOAmRJ",
        "outputId": "facd4a3d-942a-469e-9092-951ec1956da4"
      },
      "execution_count": 19,
      "outputs": [
        {
          "output_type": "stream",
          "name": "stdout",
          "text": [
            " el área de un rectángulo de base 2 y altura 3 es 6\n"
          ]
        }
      ]
    },
    {
      "cell_type": "code",
      "source": [
        "print(a)"
      ],
      "metadata": {
        "colab": {
          "base_uri": "https://localhost:8080/"
        },
        "id": "NGDuHyAyApY4",
        "outputId": "b1f2b15b-427a-407e-ce58-2e60c39fbe0b"
      },
      "execution_count": 20,
      "outputs": [
        {
          "output_type": "stream",
          "name": "stdout",
          "text": [
            "None\n"
          ]
        }
      ]
    },
    {
      "cell_type": "markdown",
      "source": [
        "###4. Con parametros y con retorno"
      ],
      "metadata": {
        "id": "q7sncvUjBQAe"
      }
    },
    {
      "cell_type": "code",
      "source": [
        "#ejemplo: el área de un rectangulo\n",
        "def area_rectangulo(u,du):\n",
        "  return(f\" el área de un rectángulo de base {u} y altura {du} es {u*du}\")"
      ],
      "metadata": {
        "id": "l1C17ClJBdOV"
      },
      "execution_count": 26,
      "outputs": []
    },
    {
      "cell_type": "code",
      "source": [
        "a=area_rectangulo(10,15)"
      ],
      "metadata": {
        "id": "SjrI0rdWBw2c"
      },
      "execution_count": 30,
      "outputs": []
    },
    {
      "cell_type": "code",
      "source": [
        "print(a)"
      ],
      "metadata": {
        "colab": {
          "base_uri": "https://localhost:8080/"
        },
        "id": "XQpLht2dB49t",
        "outputId": "f079b44d-ca81-459f-c8e3-a53f2fa22a03"
      },
      "execution_count": 31,
      "outputs": [
        {
          "output_type": "stream",
          "name": "stdout",
          "text": [
            " el área de un rectángulo de base 10 y altura 15 es 150\n"
          ]
        }
      ]
    },
    {
      "cell_type": "markdown",
      "source": [
        "##FUNCIONES ANÓNIMAS O LAMBDA\n",
        "1.  Siempre usan parametros\n",
        "2.  Siempre genera retorno\n",
        "3. No tienen nombre-->anónimas\n",
        "4. **se puede emplear n parametros, pero sólo ejecuta una linea de código**\n",
        "\n",
        "Variable=lambda (p,p1,p2,...pn): operación"
      ],
      "metadata": {
        "id": "h3uKClixDOev"
      }
    },
    {
      "cell_type": "code",
      "source": [
        "#ejemplo: el área de un triangulo\n",
        "area_triangulo=lambda a,b:a*b/2"
      ],
      "metadata": {
        "id": "Akwc70uvEfIy"
      },
      "execution_count": 32,
      "outputs": []
    },
    {
      "cell_type": "code",
      "source": [
        "area_triangulo(3,8)"
      ],
      "metadata": {
        "colab": {
          "base_uri": "https://localhost:8080/"
        },
        "id": "Ky5p1OCWE74a",
        "outputId": "3a1834a0-194c-487e-c8bf-9d2eb13410f7"
      },
      "execution_count": 33,
      "outputs": [
        {
          "output_type": "execute_result",
          "data": {
            "text/plain": [
              "12.0"
            ]
          },
          "metadata": {},
          "execution_count": 33
        }
      ]
    },
    {
      "cell_type": "code",
      "source": [
        "x=int(input(\"ingrese la altura de un triangulo\"))\n",
        "y=int(input(\"ingrese la base de un triangulo\"))\n",
        "area_triangulo(x,y)"
      ],
      "metadata": {
        "colab": {
          "base_uri": "https://localhost:8080/"
        },
        "id": "QE2N2ugEFZlp",
        "outputId": "5974e411-f727-4e7d-829e-eb227bc25743"
      },
      "execution_count": 34,
      "outputs": [
        {
          "name": "stdout",
          "output_type": "stream",
          "text": [
            "ingrese la altura de un triangulo 3\n",
            "ingrese la base de un triangulo 5\n"
          ]
        },
        {
          "output_type": "execute_result",
          "data": {
            "text/plain": [
              "7.5"
            ]
          },
          "metadata": {},
          "execution_count": 34
        }
      ]
    },
    {
      "cell_type": "code",
      "source": [
        "#ejemplo: el área de un circulo\n",
        "area_circulo=lambda r:(3.14)*r**2"
      ],
      "metadata": {
        "id": "hUhqzKPiF7W5"
      },
      "execution_count": 37,
      "outputs": []
    },
    {
      "cell_type": "code",
      "source": [
        "area_circulo(2)"
      ],
      "metadata": {
        "colab": {
          "base_uri": "https://localhost:8080/"
        },
        "id": "hUyolFDBG-AL",
        "outputId": "127914d0-6d53-4bfa-8cce-ad71f7c79cce"
      },
      "execution_count": 38,
      "outputs": [
        {
          "output_type": "execute_result",
          "data": {
            "text/plain": [
              "12.56"
            ]
          },
          "metadata": {},
          "execution_count": 38
        }
      ]
    },
    {
      "cell_type": "code",
      "source": [],
      "metadata": {
        "id": "dDJ6PIbhIS0H"
      },
      "execution_count": null,
      "outputs": []
    }
  ]
}